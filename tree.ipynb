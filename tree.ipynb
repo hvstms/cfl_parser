{
 "cells": [
  {
   "cell_type": "code",
   "execution_count": 1,
   "metadata": {},
   "outputs": [],
   "source": [
    "from itertools import product"
   ]
  },
  {
   "cell_type": "markdown",
   "metadata": {},
   "source": [
    "## Functions"
   ]
  },
  {
   "cell_type": "markdown",
   "metadata": {},
   "source": [
    "I. Tree class"
   ]
  },
  {
   "cell_type": "code",
   "execution_count": 2,
   "metadata": {},
   "outputs": [],
   "source": [
    "def print_tab(n):\n",
    "    for _ in range(3*n-2):\n",
    "        print(' ', end='')\n",
    "    print('`-', end='')\n",
    "\n",
    "class Tree():\n",
    "    def __init__(self, a, b, c=None):\n",
    "        self.name = a\n",
    "        self.left = b\n",
    "        self.right = c\n",
    " \n",
    "    def Print(self, level):\n",
    "        print(self.name, end='--')\n",
    "        level+=1\n",
    "        if type(self.left)==Tree:\n",
    "            self.left.Print(level)\n",
    "        elif self.left!=None:\n",
    "            print(self.left)\n",
    "\n",
    "        if type(self.right)==Tree:\n",
    "            print_tab(level)\n",
    "            self.right.Print(level)\n",
    "        elif self.right!=None:\n",
    "            print_tab(level)\n",
    "            print(self.right)\n",
    "        level-=1"
   ]
  },
  {
   "cell_type": "markdown",
   "metadata": {},
   "source": [
    "II. Extras"
   ]
  },
  {
   "cell_type": "code",
   "execution_count": 3,
   "metadata": {},
   "outputs": [],
   "source": [
    "def cartesian_product(sets):\n",
    "    return [''.join(element) for element in product(sets[0],sets[1])]\n",
    "\n",
    "c = cartesian_product\n",
    "\n",
    "def extract(li, lo):\n",
    "    retv = []\n",
    "    for i in li:\n",
    "        for j in lo:\n",
    "            retv.append([i,j])\n",
    "    return retv"
   ]
  },
  {
   "cell_type": "markdown",
   "metadata": {},
   "source": [
    "III. Preimage Finding"
   ]
  },
  {
   "cell_type": "code",
   "execution_count": 4,
   "metadata": {},
   "outputs": [],
   "source": [
    "def preimage_word(word):\n",
    "    retv = []\n",
    "    for key in laws:\n",
    "        retv += [[],[key]][word in laws[key]]\n",
    "    return retv\n",
    "\n",
    "def preimage_set(li):\n",
    "    retv = []\n",
    "    for word in li:\n",
    "        retv += preimage_word(word)\n",
    "    return list(set(retv))\n",
    "\n",
    "def pc(sets):\n",
    "    return preimage_set(c(sets))"
   ]
  },
  {
   "cell_type": "markdown",
   "metadata": {},
   "source": [
    "IV. CYK table"
   ]
  },
  {
   "cell_type": "code",
   "execution_count": 5,
   "metadata": {},
   "outputs": [],
   "source": [
    "def raw_row(betu):\n",
    "    v = [[(table[i][start],table[betu-2-i][start+i+1]) for i in range(betu-1)] for start in range(len(text)+1-betu)]\n",
    "    return [[pc(pair) for pair in pairs] for pairs in v]\n",
    "\n",
    "def new_row(betu):\n",
    "    row = []\n",
    "    temp = raw_row(betu)\n",
    "    for sets in temp:\n",
    "        collector = []\n",
    "        for li in sets:\n",
    "            collector += li\n",
    "        row.append(list(set(collector)))\n",
    "    table[betu-1] = row"
   ]
  },
  {
   "cell_type": "markdown",
   "metadata": {},
   "source": [
    "V. Tree from table"
   ]
  },
  {
   "cell_type": "code",
   "execution_count": 9,
   "metadata": {},
   "outputs": [],
   "source": [
    "def children(non_terminal, row, column):\n",
    "    retv = []\n",
    "    for i in range(row):\n",
    "        v = c([table[i][column],table[row-i-1][column+i+1]])\n",
    "        for j in v:\n",
    "            if j in laws[non_terminal]:\n",
    "                retv.append([[j[0], i, column], [j[1], row-i-1, column+i+1]])\n",
    "    return retv\n",
    "\n",
    "def tree(non_terminal, row, column):\n",
    "    if row == 0:\n",
    "        return [Tree(non_terminal, text[column])]\n",
    "    trees = []\n",
    "    li = children(non_terminal, row, column)\n",
    "    for i in li:\n",
    "        for j in extract(tree(i[0][0],i[0][1],i[0][2]), tree(i[1][0],i[1][1],i[1][2])):\n",
    "            trees.append(Tree(non_terminal,j[0],j[1]))\n",
    "    return trees"
   ]
  },
  {
   "cell_type": "markdown",
   "metadata": {},
   "source": [
    "VI. Tree from Tree"
   ]
  },
  {
   "cell_type": "code",
   "execution_count": 11,
   "metadata": {},
   "outputs": [],
   "source": [
    "def tree_to_tree(node):\n",
    "    if node.name in 'coam':\n",
    "        return [node.left,node.right][node.name in 'co']\n",
    "\n",
    "    if node.name=='I':\n",
    "        return Tree('.',tree_to_tree(node.right))\n",
    "\n",
    "    if node.name in 'SP':\n",
    "        if node.right==None:\n",
    "            return node.left\n",
    "        else:\n",
    "            retv = tree_to_tree(node.left)\n",
    "            retv.right = tree_to_tree(node.right)\n",
    "            \n",
    "    if node.name in 'qr':\n",
    "        if node.right.name in 'am':\n",
    "            return Tree(node.right.left, tree_to_tree(node.left))\n",
    "        else:\n",
    "            retv = tree_to_tree(node.left)\n",
    "            retv.right = tree_to_tree(node.right)\n",
    "            \n",
    "    return retv"
   ]
  },
  {
   "cell_type": "markdown",
   "metadata": {},
   "source": [
    "## Run"
   ]
  },
  {
   "cell_type": "markdown",
   "metadata": {},
   "source": [
    "input Rules"
   ]
  },
  {
   "cell_type": "code",
   "execution_count": 6,
   "metadata": {
    "scrolled": true
   },
   "outputs": [],
   "source": [
    "laws = {}\n",
    "file = open('aritmethic', 'r')\n",
    "for line in file:\n",
    "    l = line[:-1].split('->')\n",
    "    laws[l[0]] = l[1].split('|')\n",
    "file.close()"
   ]
  },
  {
   "cell_type": "markdown",
   "metadata": {},
   "source": [
    "the CYK"
   ]
  },
  {
   "cell_type": "code",
   "execution_count": 7,
   "metadata": {},
   "outputs": [],
   "source": [
    "text = '(1+2)*(3+4)+1+3'\n",
    "table = [[] for _ in text]\n",
    "\n",
    "table[0] = [preimage_word(word) for word in text]\n",
    "for number_of_letters in range(2,len(text)+1):\n",
    "    new_row(number_of_letters)"
   ]
  },
  {
   "cell_type": "code",
   "execution_count": 8,
   "metadata": {},
   "outputs": [
    {
     "name": "stdout",
     "output_type": "stream",
     "text": [
      "[['S']]\n",
      "[['q'], []]\n",
      "[['S'], [], []]\n",
      "[['q'], [], [], []]\n",
      "[['S', 'P'], [], [], [], []]\n",
      "[[], [], [], [], [], []]\n",
      "[[], [], [], [], [], [], ['S']]\n",
      "[[], [], [], [], [], [], ['q'], []]\n",
      "[[], [], [], [], [], [], ['S'], [], []]\n",
      "[['r'], [], [], [], [], [], ['q'], [], [], []]\n",
      "[['S', 'P'], [], [], [], [], [], ['S', 'P'], [], [], [], []]\n",
      "[['I'], [], [], [], [], [], ['I'], [], [], [], [], []]\n",
      "[[], ['S'], [], [], [], [], [], ['S'], [], [], [], [], ['S']]\n",
      "[['I'], ['q'], [], [], [], [], ['I'], ['q'], [], [], [], [], ['q'], []]\n",
      "[['o'], ['S', 'P'], ['a'], ['S', 'P'], ['c'], ['m'], ['o'], ['S', 'P'], ['a'], ['S', 'P'], ['c'], ['a'], ['S', 'P'], ['a'], ['S', 'P']]\n"
     ]
    }
   ],
   "source": [
    "for i in table[::-1]:\n",
    "    print(i)"
   ]
  },
  {
   "cell_type": "markdown",
   "metadata": {},
   "source": [
    "tree Finding"
   ]
  },
  {
   "cell_type": "code",
   "execution_count": 10,
   "metadata": {
    "scrolled": true
   },
   "outputs": [
    {
     "name": "stdout",
     "output_type": "stream",
     "text": [
      "S--q--S--r--P--I--o--(\n",
      "                `-S--q--S--1\n",
      "                      `-a--+\n",
      "                   `-S--2\n",
      "             `-c--)\n",
      "          `-m--*\n",
      "       `-P--I--o--(\n",
      "             `-S--q--S--3\n",
      "                   `-a--+\n",
      "                `-S--4\n",
      "          `-c--)\n",
      "    `-a--+\n",
      " `-S--q--S--1\n",
      "       `-a--+\n",
      "    `-S--3\n"
     ]
    }
   ],
   "source": [
    "a = tree('S',len(text)-1,0)[0]\n",
    "a.Print(0)"
   ]
  },
  {
   "cell_type": "markdown",
   "metadata": {},
   "source": [
    "Tree to Tree"
   ]
  },
  {
   "cell_type": "code",
   "execution_count": 12,
   "metadata": {},
   "outputs": [
    {
     "name": "stdout",
     "output_type": "stream",
     "text": [
      "+--*--.--+--1\n",
      "          `-2\n",
      "    `-.--+--3\n",
      "          `-4\n",
      " `-+--1\n",
      "    `-3\n"
     ]
    }
   ],
   "source": [
    "b = tree_to_tree(a)\n",
    "b.Print(0)"
   ]
  }
 ],
 "metadata": {
  "kernelspec": {
   "display_name": "Python 3",
   "language": "python",
   "name": "python3"
  },
  "language_info": {
   "codemirror_mode": {
    "name": "ipython",
    "version": 3
   },
   "file_extension": ".py",
   "mimetype": "text/x-python",
   "name": "python",
   "nbconvert_exporter": "python",
   "pygments_lexer": "ipython3",
   "version": "3.6.4"
  }
 },
 "nbformat": 4,
 "nbformat_minor": 2
}
